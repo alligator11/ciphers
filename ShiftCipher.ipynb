{
  "nbformat": 4,
  "nbformat_minor": 0,
  "metadata": {
    "colab": {
      "provenance": []
    },
    "kernelspec": {
      "name": "python3",
      "display_name": "Python 3"
    },
    "language_info": {
      "name": "python"
    }
  },
  "cells": [
    {
      "cell_type": "code",
      "execution_count": null,
      "metadata": {
        "colab": {
          "base_uri": "https://localhost:8080/"
        },
        "id": "m-kCjcpcVZEH",
        "outputId": "fdd7055d-16f9-49b6-b98a-10419fe17a24"
      },
      "outputs": [
        {
          "output_type": "stream",
          "name": "stdout",
          "text": [
            "['A', 'B', 'C', 'D', 'E', 'F', 'G', 'H', 'I', 'J', 'K', 'L', 'M', 'N', 'O', 'P', 'Q', 'R', 'S', 'T', 'U', 'V', 'W', 'X', 'Y', 'Z']\n"
          ]
        }
      ],
      "source": [
        "letters = []\n",
        "for i in range(26):\n",
        "  letters.append(chr(i+65))\n",
        "print(letters)"
      ]
    },
    {
      "cell_type": "code",
      "source": [
        "def encrypt(pt, k, letters):\n",
        "  msg=''\n",
        "  for p in pt:\n",
        "    c = (letters.index(p)+k) % 26\n",
        "    msg+=letters[c]\n",
        "  return msg"
      ],
      "metadata": {
        "id": "kSZDSLELV6sT"
      },
      "execution_count": null,
      "outputs": []
    },
    {
      "cell_type": "code",
      "source": [
        "encrypt('FARIN',17,letters)"
      ],
      "metadata": {
        "colab": {
          "base_uri": "https://localhost:8080/",
          "height": 35
        },
        "id": "MpdW7gJ5W4Y7",
        "outputId": "1e9484fd-31aa-4232-ec01-7b22ca995c3c"
      },
      "execution_count": null,
      "outputs": [
        {
          "output_type": "execute_result",
          "data": {
            "text/plain": [
              "'WRIZE'"
            ],
            "application/vnd.google.colaboratory.intrinsic+json": {
              "type": "string"
            }
          },
          "metadata": {},
          "execution_count": 11
        }
      ]
    },
    {
      "cell_type": "code",
      "source": [
        "encrypt('ATTACK', 3, letters)"
      ],
      "metadata": {
        "colab": {
          "base_uri": "https://localhost:8080/",
          "height": 35
        },
        "id": "QEycfrxefJXE",
        "outputId": "5668b648-535e-4445-8dfe-52cb77f22ab8"
      },
      "execution_count": null,
      "outputs": [
        {
          "output_type": "execute_result",
          "data": {
            "text/plain": [
              "'DWWDFN'"
            ],
            "application/vnd.google.colaboratory.intrinsic+json": {
              "type": "string"
            }
          },
          "metadata": {},
          "execution_count": 16
        }
      ]
    },
    {
      "cell_type": "code",
      "source": [
        "encrypt('ACADEMY', 25, letters)"
      ],
      "metadata": {
        "colab": {
          "base_uri": "https://localhost:8080/",
          "height": 35
        },
        "id": "h8EXdcwGfkLc",
        "outputId": "0bc50b2d-0079-4b61-f796-fb8aaf2f2ffc"
      },
      "execution_count": null,
      "outputs": [
        {
          "output_type": "execute_result",
          "data": {
            "text/plain": [
              "'ZBZCDLX'"
            ],
            "application/vnd.google.colaboratory.intrinsic+json": {
              "type": "string"
            }
          },
          "metadata": {},
          "execution_count": 19
        }
      ]
    },
    {
      "cell_type": "code",
      "source": [
        "def decrypt(ct, k, letters):\n",
        "  msg=''\n",
        "  for c in ct:\n",
        "    p = (letters.index(c)-k) % 26\n",
        "    msg+=letters[p]\n",
        "  return msg"
      ],
      "metadata": {
        "id": "L2A4j-B9W9eb"
      },
      "execution_count": null,
      "outputs": []
    },
    {
      "cell_type": "code",
      "source": [
        "decrypt('WRIZE', 17, letters)"
      ],
      "metadata": {
        "colab": {
          "base_uri": "https://localhost:8080/",
          "height": 35
        },
        "id": "jmxdNZ9wXfzt",
        "outputId": "463d286c-6151-4f65-a3fc-183bba578237"
      },
      "execution_count": null,
      "outputs": [
        {
          "output_type": "execute_result",
          "data": {
            "text/plain": [
              "'FARIN'"
            ],
            "application/vnd.google.colaboratory.intrinsic+json": {
              "type": "string"
            }
          },
          "metadata": {},
          "execution_count": 13
        }
      ]
    },
    {
      "cell_type": "code",
      "source": [
        "decrypt('DWWDFN', 3, letters)"
      ],
      "metadata": {
        "colab": {
          "base_uri": "https://localhost:8080/",
          "height": 35
        },
        "id": "CyrTLGEVfPP8",
        "outputId": "d837d4d7-bf46-4c64-8d9c-3ac6b9f37d88"
      },
      "execution_count": null,
      "outputs": [
        {
          "output_type": "execute_result",
          "data": {
            "text/plain": [
              "'ATTACK'"
            ],
            "application/vnd.google.colaboratory.intrinsic+json": {
              "type": "string"
            }
          },
          "metadata": {},
          "execution_count": 17
        }
      ]
    },
    {
      "cell_type": "code",
      "source": [
        "decrypt('ZBZCDLX', 25, letters)"
      ],
      "metadata": {
        "colab": {
          "base_uri": "https://localhost:8080/",
          "height": 35
        },
        "id": "foUz4NVCfqhT",
        "outputId": "65d8d602-100e-4336-fab1-4cba5cf0163f"
      },
      "execution_count": null,
      "outputs": [
        {
          "output_type": "execute_result",
          "data": {
            "text/plain": [
              "'ACADEMY'"
            ],
            "application/vnd.google.colaboratory.intrinsic+json": {
              "type": "string"
            }
          },
          "metadata": {},
          "execution_count": 20
        }
      ]
    },
    {
      "cell_type": "code",
      "source": [
        "def brute_force(ct, letters):\n",
        "  result = []\n",
        "  for i in range(26):\n",
        "    result.append(decrypt(ct, i, letters))\n",
        "  return list(zip(range(26), result))"
      ],
      "metadata": {
        "id": "2WdzI0XvXkQS"
      },
      "execution_count": null,
      "outputs": []
    },
    {
      "cell_type": "code",
      "source": [
        "brute_force('WRIZE', letters)"
      ],
      "metadata": {
        "colab": {
          "base_uri": "https://localhost:8080/"
        },
        "id": "TZJW6jTjaI6T",
        "outputId": "e33a42bb-19d7-4cd4-dc36-8053660e7f48"
      },
      "execution_count": null,
      "outputs": [
        {
          "output_type": "execute_result",
          "data": {
            "text/plain": [
              "[(0, 'WRIZE'),\n",
              " (1, 'VQHYD'),\n",
              " (2, 'UPGXC'),\n",
              " (3, 'TOFWB'),\n",
              " (4, 'SNEVA'),\n",
              " (5, 'RMDUZ'),\n",
              " (6, 'QLCTY'),\n",
              " (7, 'PKBSX'),\n",
              " (8, 'OJARW'),\n",
              " (9, 'NIZQV'),\n",
              " (10, 'MHYPU'),\n",
              " (11, 'LGXOT'),\n",
              " (12, 'KFWNS'),\n",
              " (13, 'JEVMR'),\n",
              " (14, 'IDULQ'),\n",
              " (15, 'HCTKP'),\n",
              " (16, 'GBSJO'),\n",
              " (17, 'FARIN'),\n",
              " (18, 'EZQHM'),\n",
              " (19, 'DYPGL'),\n",
              " (20, 'CXOFK'),\n",
              " (21, 'BWNEJ'),\n",
              " (22, 'AVMDI'),\n",
              " (23, 'ZULCH'),\n",
              " (24, 'YTKBG'),\n",
              " (25, 'XSJAF')]"
            ]
          },
          "metadata": {},
          "execution_count": 29
        }
      ]
    },
    {
      "cell_type": "code",
      "source": [
        "brute_force('DWWDFN', letters)"
      ],
      "metadata": {
        "colab": {
          "base_uri": "https://localhost:8080/"
        },
        "id": "DRycZSZ5fans",
        "outputId": "11209d64-ea14-4b8b-83cc-488600530576"
      },
      "execution_count": null,
      "outputs": [
        {
          "output_type": "execute_result",
          "data": {
            "text/plain": [
              "[(0, 'DWWDFN'),\n",
              " (1, 'CVVCEM'),\n",
              " (2, 'BUUBDL'),\n",
              " (3, 'ATTACK'),\n",
              " (4, 'ZSSZBJ'),\n",
              " (5, 'YRRYAI'),\n",
              " (6, 'XQQXZH'),\n",
              " (7, 'WPPWYG'),\n",
              " (8, 'VOOVXF'),\n",
              " (9, 'UNNUWE'),\n",
              " (10, 'TMMTVD'),\n",
              " (11, 'SLLSUC'),\n",
              " (12, 'RKKRTB'),\n",
              " (13, 'QJJQSA'),\n",
              " (14, 'PIIPRZ'),\n",
              " (15, 'OHHOQY'),\n",
              " (16, 'NGGNPX'),\n",
              " (17, 'MFFMOW'),\n",
              " (18, 'LEELNV'),\n",
              " (19, 'KDDKMU'),\n",
              " (20, 'JCCJLT'),\n",
              " (21, 'IBBIKS'),\n",
              " (22, 'HAAHJR'),\n",
              " (23, 'GZZGIQ'),\n",
              " (24, 'FYYFHP'),\n",
              " (25, 'EXXEGO')]"
            ]
          },
          "metadata": {},
          "execution_count": 30
        }
      ]
    },
    {
      "cell_type": "code",
      "source": [
        "brute_force('ZBZCDLX', letters)"
      ],
      "metadata": {
        "colab": {
          "base_uri": "https://localhost:8080/"
        },
        "id": "A6YDP7d2ffAr",
        "outputId": "66c704da-e139-4c7c-dddf-f56902a96706"
      },
      "execution_count": null,
      "outputs": [
        {
          "output_type": "execute_result",
          "data": {
            "text/plain": [
              "[(0, 'ZBZCDLX'),\n",
              " (1, 'YAYBCKW'),\n",
              " (2, 'XZXABJV'),\n",
              " (3, 'WYWZAIU'),\n",
              " (4, 'VXVYZHT'),\n",
              " (5, 'UWUXYGS'),\n",
              " (6, 'TVTWXFR'),\n",
              " (7, 'SUSVWEQ'),\n",
              " (8, 'RTRUVDP'),\n",
              " (9, 'QSQTUCO'),\n",
              " (10, 'PRPSTBN'),\n",
              " (11, 'OQORSAM'),\n",
              " (12, 'NPNQRZL'),\n",
              " (13, 'MOMPQYK'),\n",
              " (14, 'LNLOPXJ'),\n",
              " (15, 'KMKNOWI'),\n",
              " (16, 'JLJMNVH'),\n",
              " (17, 'IKILMUG'),\n",
              " (18, 'HJHKLTF'),\n",
              " (19, 'GIGJKSE'),\n",
              " (20, 'FHFIJRD'),\n",
              " (21, 'EGEHIQC'),\n",
              " (22, 'DFDGHPB'),\n",
              " (23, 'CECFGOA'),\n",
              " (24, 'BDBEFNZ'),\n",
              " (25, 'ACADEMY')]"
            ]
          },
          "metadata": {},
          "execution_count": 31
        }
      ]
    }
  ]
}