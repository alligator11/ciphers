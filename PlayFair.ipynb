{
  "nbformat": 4,
  "nbformat_minor": 0,
  "metadata": {
    "colab": {
      "provenance": []
    },
    "kernelspec": {
      "name": "python3",
      "display_name": "Python 3"
    },
    "language_info": {
      "name": "python"
    }
  },
  "cells": [
    {
      "cell_type": "code",
      "source": [
        "import numpy as np"
      ],
      "metadata": {
        "id": "-AEfHpxOefA9"
      },
      "execution_count": null,
      "outputs": []
    },
    {
      "cell_type": "code",
      "source": [
        "def make_matrix(key):\n",
        "  letters = []\n",
        "  for i in key:\n",
        "    if not ((i == 'J' and 'I' in letters) or (i == 'I' and 'J' in letters)):\n",
        "      letters.append(i)\n",
        "  for i in range(26):\n",
        "    if not ((chr(i+65) == 'J' and 'I' in letters) or (chr(i+65) == 'I' and 'J' in letters) or (chr(i+65) in letters)):\n",
        "      letters.append(chr(i+65))\n",
        "  return np.array(letters).reshape(5,5)"
      ],
      "metadata": {
        "id": "DVeLTWQbmsDs"
      },
      "execution_count": null,
      "outputs": []
    },
    {
      "cell_type": "code",
      "source": [
        "def make_pairs(input):\n",
        "  pairs = []\n",
        "  i = 0\n",
        "  while True:\n",
        "    try:\n",
        "      if input[i] == input[i+1]:\n",
        "        pairs.append((input[i], 'X'))\n",
        "        i+=1\n",
        "      else:\n",
        "        try:\n",
        "          pairs.append((input[i], input[i+1]))\n",
        "          i+=2\n",
        "        except:\n",
        "          pairs.append((input[i], 'X'))\n",
        "          i+=2\n",
        "          break\n",
        "    except:\n",
        "      break\n",
        "  return pairs"
      ],
      "metadata": {
        "id": "Yj9agzLQnFDL"
      },
      "execution_count": null,
      "outputs": []
    },
    {
      "cell_type": "code",
      "execution_count": null,
      "metadata": {
        "id": "L6WeGrGgYcuO"
      },
      "outputs": [],
      "source": [
        "def encrypt(input, key):\n",
        "  matrix = make_matrix(key)\n",
        "  print('Matrix:\\n', matrix)\n",
        "\n",
        "  pairs = make_pairs(input)\n",
        "  print('Pairs: ', pairs)\n",
        "\n",
        "  ct = ''\n",
        "  for a, b in pairs:\n",
        "    x1, y1 = np.where(matrix == a)\n",
        "    x2, y2 = np.where(matrix == b)\n",
        "    if x1 != x2 and y1 != y2:\n",
        "      ct += matrix[x1[0]][y2[0]]\n",
        "      ct += matrix[x2[0]][y1[0]]\n",
        "    elif x1 == x2:\n",
        "      if y1[0]+1 > 4:\n",
        "        ct += matrix[x1[0]][0]\n",
        "      else:\n",
        "        ct += matrix[x1[0]][y1[0]+1]\n",
        "      if y2[0]+1 > 4:\n",
        "        ct += matrix[x1[0]][0]\n",
        "      else:\n",
        "        ct += matrix[x2[0]][y2[0]+1]\n",
        "    else:\n",
        "      if x1[0]+1>4:\n",
        "        ct += matrix[0][y1[0]]\n",
        "      else:\n",
        "        ct += matrix[x1[0]+1][y1[0]]\n",
        "      if x2[0]+1>4:\n",
        "        ct += matrix[0][y2[0]]\n",
        "      else:\n",
        "        ct += matrix[x2[0]+1][y2[0]]\n",
        "  return ct"
      ]
    },
    {
      "cell_type": "code",
      "source": [
        "print('Cipher text: ', encrypt('ATTACK', 'MONARCHY'))"
      ],
      "metadata": {
        "colab": {
          "base_uri": "https://localhost:8080/"
        },
        "id": "pkFGZDH9e2jc",
        "outputId": "bdcc9d32-8aa3-4a57-ab6d-4cc3217767c6"
      },
      "execution_count": null,
      "outputs": [
        {
          "output_type": "stream",
          "name": "stdout",
          "text": [
            "Matrix:\n",
            " [['M' 'O' 'N' 'A' 'R']\n",
            " ['C' 'H' 'Y' 'B' 'D']\n",
            " ['E' 'F' 'G' 'I' 'K']\n",
            " ['L' 'P' 'Q' 'S' 'T']\n",
            " ['U' 'V' 'W' 'X' 'Z']]\n",
            "Pairs:  [('A', 'T'), ('T', 'A'), ('C', 'K')]\n",
            "Cipher text:  RSSRDE\n"
          ]
        }
      ]
    },
    {
      "cell_type": "code",
      "source": [
        "def decrypt(input, key):\n",
        "  matrix = make_matrix(key)\n",
        "  print('Matrix:\\n', matrix)\n",
        "\n",
        "  pairs = make_pairs(input)\n",
        "  print('Pairs: ', pairs)\n",
        "\n",
        "  ct = ''\n",
        "  for a, b in pairs:\n",
        "    x1, y1 = np.where(matrix == a)\n",
        "    x2, y2 = np.where(matrix == b)\n",
        "    if x1 != x2 and y1 != y2:\n",
        "      ct += matrix[x1[0]][y2[0]]\n",
        "      ct += matrix[x2[0]][y1[0]]\n",
        "    elif x1 == x2:\n",
        "      if y1[0] == 0:\n",
        "        ct += matrix[x1[0]][4]\n",
        "      else:\n",
        "        ct += matrix[x1[0]][y1[0]-1]\n",
        "      if y2[0] == 0:\n",
        "        ct += matrix[x2[0]][4]\n",
        "      else:\n",
        "        ct += matrix[x2[0]][y2[0]-1]\n",
        "    else:\n",
        "      if x1[0] == 0:\n",
        "        ct += matrix[4][y1[0]]\n",
        "      else:\n",
        "        ct += matrix[x1[0]-1][y1[0]]\n",
        "      if x2[0] == 0:\n",
        "        ct += matrix[4][y2[0]]\n",
        "      else:\n",
        "        ct += matrix[x2[0]-1][y2[0]]\n",
        "  return ct"
      ],
      "metadata": {
        "id": "5vf0WLuFbQqr"
      },
      "execution_count": null,
      "outputs": []
    },
    {
      "cell_type": "code",
      "source": [
        "print('Plain text: ', decrypt('RSSRDE', 'MONARCHY'))"
      ],
      "metadata": {
        "colab": {
          "base_uri": "https://localhost:8080/"
        },
        "id": "BeG-vjTNrRy0",
        "outputId": "12d3493a-495f-4b6d-82c8-cd061c1f90ee"
      },
      "execution_count": null,
      "outputs": [
        {
          "output_type": "stream",
          "name": "stdout",
          "text": [
            "Matrix:\n",
            " [['M' 'O' 'N' 'A' 'R']\n",
            " ['C' 'H' 'Y' 'B' 'D']\n",
            " ['E' 'F' 'G' 'I' 'K']\n",
            " ['L' 'P' 'Q' 'S' 'T']\n",
            " ['U' 'V' 'W' 'X' 'Z']]\n",
            "Pairs:  [('R', 'S'), ('S', 'R'), ('D', 'E')]\n",
            "Plain text:  ATTACK\n"
          ]
        }
      ]
    }
  ]
}