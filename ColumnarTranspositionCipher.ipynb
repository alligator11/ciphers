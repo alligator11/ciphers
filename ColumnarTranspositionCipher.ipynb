{
  "nbformat": 4,
  "nbformat_minor": 0,
  "metadata": {
    "colab": {
      "provenance": []
    },
    "kernelspec": {
      "name": "python3",
      "display_name": "Python 3"
    },
    "language_info": {
      "name": "python"
    }
  },
  "cells": [
    {
      "cell_type": "code",
      "source": [
        "import numpy as np"
      ],
      "metadata": {
        "id": "ywMfTV5JOJVO"
      },
      "execution_count": null,
      "outputs": []
    },
    {
      "cell_type": "code",
      "source": [
        "def make_matrix(pt, n):\n",
        "  matrix = []\n",
        "  pt_copy = \"\".join(pt.split())\n",
        "  print('Plain Text: ', pt_copy)\n",
        "  fcount = len(pt_copy)%n\n",
        "  if fcount!=0:\n",
        "    for i in range(fcount):\n",
        "      pt_copy+=chr(65+i)\n",
        "  i = 1\n",
        "  while i*n<=len(pt_copy):\n",
        "    matrix+=[[]]\n",
        "    for j in range(n):\n",
        "        matrix[i-1].append(pt_copy[(i-1)*n+j])\n",
        "    i+=1\n",
        "  print(\"Matrix:\")\n",
        "  print(np.asarray(matrix))\n",
        "  return matrix"
      ],
      "metadata": {
        "id": "o7zVbL18PYsu"
      },
      "execution_count": null,
      "outputs": []
    },
    {
      "cell_type": "code",
      "execution_count": null,
      "metadata": {
        "id": "pL47rBMJroYa"
      },
      "outputs": [],
      "source": [
        "def encrypt(pt, key):\n",
        "  matrix = make_matrix(pt, len(key))\n",
        "  mat_final = list(map(list, zip(*matrix)))\n",
        "  print(mat_final)\n",
        "  ct = ''\n",
        "  for i in key:\n",
        "    for row in mat_final[i-1]:\n",
        "      ct += row\n",
        "  return ct"
      ]
    },
    {
      "cell_type": "code",
      "source": [
        "pt = 'Attack Postponed until two am'\n",
        "key = [4, 3, 1, 2, 5, 6, 7]\n",
        "print('Cipher Text: ', encrypt(pt, key))"
      ],
      "metadata": {
        "colab": {
          "base_uri": "https://localhost:8080/"
        },
        "id": "1PbI8vDo7_zq",
        "outputId": "d819169a-8152-4de3-dea6-29586ebb25e7"
      },
      "execution_count": null,
      "outputs": [
        {
          "output_type": "stream",
          "name": "stdout",
          "text": [
            "Plain Text:  AttackPostponeduntiltwoam\n",
            "Matrix:\n",
            "[['A' 't' 't' 'a' 'c' 'k' 'P']\n",
            " ['o' 's' 't' 'p' 'o' 'n' 'e']\n",
            " ['d' 'u' 'n' 't' 'i' 'l' 't']\n",
            " ['w' 'o' 'a' 'm' 'A' 'B' 'C']]\n",
            "[['A', 'o', 'd', 'w'], ['t', 's', 'u', 'o'], ['t', 't', 'n', 'a'], ['a', 'p', 't', 'm'], ['c', 'o', 'i', 'A'], ['k', 'n', 'l', 'B'], ['P', 'e', 't', 'C']]\n",
            "Cipher Text:  aptmttnaAodwtsuocoiAknlBPetC\n"
          ]
        }
      ]
    },
    {
      "cell_type": "code",
      "source": [
        "mat = [[]]"
      ],
      "metadata": {
        "id": "Eqwj1ZzHa9JO"
      },
      "execution_count": null,
      "outputs": []
    },
    {
      "cell_type": "code",
      "source": [
        "def decrypt(ct, key):\n",
        "  matrix = make_matrix(ct, int(len(ct)/len(key)))\n",
        "  order = [0]*len(key)\n",
        "  c = 0\n",
        "  for i in key:\n",
        "    order[i-1] = c\n",
        "    c+=1\n",
        "  mat_final = list(map(list, zip(*[matrix[i] for i in order])))\n",
        "  print(np.asarray(mat_final))\n",
        "  pt = ''\n",
        "  for row in mat_final:\n",
        "    for col in row:\n",
        "      pt += col\n",
        "  return pt"
      ],
      "metadata": {
        "id": "M9uRJ4XwPM8E"
      },
      "execution_count": null,
      "outputs": []
    },
    {
      "cell_type": "code",
      "source": [
        "ct = 'aptmttnaAodwtsuocoiAknlBPetC'\n",
        "key = [4, 3, 1, 2, 5, 6, 7]\n",
        "print('Plain Text: ', decrypt(ct, key))"
      ],
      "metadata": {
        "colab": {
          "base_uri": "https://localhost:8080/"
        },
        "id": "yoaMITrEsfqd",
        "outputId": "5e1c33cf-29a2-4d15-93b9-a035fbb0a8cd"
      },
      "execution_count": null,
      "outputs": [
        {
          "output_type": "stream",
          "name": "stdout",
          "text": [
            "Plain Text:  aptmttnaAodwtsuocoiAknlBPetC\n",
            "Matrix:\n",
            "[['a' 'p' 't' 'm']\n",
            " ['t' 't' 'n' 'a']\n",
            " ['A' 'o' 'd' 'w']\n",
            " ['t' 's' 'u' 'o']\n",
            " ['c' 'o' 'i' 'A']\n",
            " ['k' 'n' 'l' 'B']\n",
            " ['P' 'e' 't' 'C']]\n",
            "[['A' 't' 't' 'a' 'c' 'k' 'P']\n",
            " ['o' 's' 't' 'p' 'o' 'n' 'e']\n",
            " ['d' 'u' 'n' 't' 'i' 'l' 't']\n",
            " ['w' 'o' 'a' 'm' 'A' 'B' 'C']]\n",
            "Plain Text:  AttackPostponeduntiltwoamABC\n"
          ]
        }
      ]
    },
    {
      "cell_type": "code",
      "source": [],
      "metadata": {
        "id": "ebfHnnJZObmF"
      },
      "execution_count": null,
      "outputs": []
    }
  ]
}